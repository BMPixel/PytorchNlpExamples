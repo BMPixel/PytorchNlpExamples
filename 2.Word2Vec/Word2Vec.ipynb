{
 "metadata": {
  "language_info": {
   "codemirror_mode": {
    "name": "ipython",
    "version": 3
   },
   "file_extension": ".py",
   "mimetype": "text/x-python",
   "name": "python",
   "nbconvert_exporter": "python",
   "pygments_lexer": "ipython3",
   "version": "3.8.5"
  },
  "orig_nbformat": 4,
  "kernelspec": {
   "name": "python3",
   "display_name": "Python 3.8.5 64-bit ('torch': conda)"
  },
  "interpreter": {
   "hash": "9b4bbedfadf25860b059a1c5c39307745bbec4144bd123053550521ac6995465"
  }
 },
 "nbformat": 4,
 "nbformat_minor": 2,
 "cells": [
  {
   "cell_type": "markdown",
   "source": [
    "# Word2Vec 词嵌入\n",
    "上一篇中我们了解到可以通过在神经语言模型中加入词嵌入层的方法，在训练网络的概率函数的同时也训练出一套词嵌入参数。但是在更多的情况下，我们只想要一套优秀的词嵌入矩阵，而于此无关的复杂计算我们都希望能尽可能的减少。因此谷歌提出的Word2Vec模型（准确的说是Skip-gram方法）就可以用最快的方法在更大的语料库中训练一套含义丰富的词嵌入模型\n",
    "## 训练集的设置——skip-gram和cbow方法\n",
    "现在有一句话“The quick brown fox jumps over the lazy dog”, 我们希望能够学习里面的词语和词语之间的关系。在这里我们有两种构建输入-输出数据对的方法cbow和skip-gram\n",
    "\n",
    "这两种方法都需要使用一个滑动窗口，每次在不同的位置附近连续的选择几个词语，把它们之间的联系输入网络。设想我们现在取到了这样五个词语：“quick brown fox jumps over”，那么我们对于CBOW方法和Skip-gram方法有不同的处理方式：\n",
    "### CBOW\n",
    "对于CBOW方法，我们每次选择窗口中间的一次词语，把其余的词语作为网络的输入，我们希望网络可以预测我们选中的词语，那么我们构建的数据对就有可能是这样的`(\"quick\", \"brown\", \"jumps\", \"over\") -> (\"fox“)`\n",
    "### Skip-gram\n",
    "而当我们使用Skip-gram方法时，我们会选中一个词语，然后让网络尝试预测它的上下文词语。那么我们就会构造出这些数据对：`(\"fox\") -> (\"quick\")`,`(\"fox\") -> (\"brown\")`,`(\"fox\") -> (\"jumps\")`,`(\"fox\") -> (\"over\")`\n",
    "\n",
    "事实证明，这两种方法都可以促使网络学习到一个不错的词嵌入向量。实践时，我们会利用到目标词和上下文词语的词向量，这时我们会把CBOW中所有上下文词语的词向量求平均值后再输入网络，这样CBOW和Skip-gram都是单个输入对应单个输出的任务了，我们可以用完全一样的网络在这两种方法构造的数据集上训练。而由于CBOW把上下文词向量求了平均值，可以看作是对词语分布的平滑处理，CBOW更适合于那些数据分布本来就比较不稳定的规模较小的数据集上训练，而Skip-gram则更适合于大的数据集\n",
    "\n",
    "这两种采样方法的实现在loader.py里面，下面我们就直接调用里面的函数，由于数据集比较小，之后的内容中会使用CBOW来进行训练"
   ],
   "metadata": {}
  },
  {
   "cell_type": "code",
   "execution_count": 1,
   "source": [
    "from loader import get_dataloader\n",
    "cbow_dataloader = get_dataloader(\"cbow\", batch_size = 128, window_size=5, lines_limit=10000)\n",
    "skip_dataloader = get_dataloader(\"skip\", batch_size = 128, window_size=5, lines_limit=10000)"
   ],
   "outputs": [
    {
     "output_type": "stream",
     "name": "stdout",
     "text": [
      "Initializing vocabulary...\n",
      "Loading Yahoo dataset...\n",
      "Counted 49734 words in  dataset\n"
     ]
    }
   ],
   "metadata": {}
  },
  {
   "cell_type": "markdown",
   "source": [
    "## Word2Vec模型实现\n",
    "接下来我们只需要设计一个可以接受一个或多个单词输入，预测一个单词输出的网络模型就可以了。当然可以直接用神经语言模型来做这件事，但是这个方案有两个问题：\n",
    "\n",
    "1. 既然网络的唯一目的就是训练一套词嵌入参数，那么我们就要尽可能简化网络，只保留最关键的部分，而神经语言模型还是太复杂了\n",
    "2. 大的词嵌入模型需要为$10^5 \\sim 10^7$词语设计向量，在这么大的词语规模下，我们怎么选中那个要预测的词语？用SoftMax输出字典中每一个词语的概率吗？显然不现实。因此我们需要更好的方法。\n",
    "\n",
    "这里有三种模型可供选择，直接用SoftMax的模型，使用Hierarchical SoftMax的模型，使用Negative Sampling负采样的模型\n",
    "### 使用SoftMax的模型\n",
    "这个模型解决了网络不必要的复杂的问题但是没有解决SoftMax速度慢的问题，它的逻辑很简单：我们语料库中的每一个词语都对应一个词嵌入向量$v_w$和参数向量$\\theta_w$，其中词嵌入向量是我们希望能够训练出的有意义的向量，而参数向量只是网络里用来对其他嵌入向量进行变换的网络参数。我们对于任意输入词$w_I$和需要预测的输出词$w_O$，有如下定义：\n",
    "$$P(w_O|w_I) = SoftMax(\\theta_{w_O}^Tv_{w_I}) = \\frac{\\exp(\\theta_{w_O}^Tv_{w_I})}{\\sum_w^W \\exp(\\theta_{w}^Tv_{w_I})}$$\n",
    "在Skip-gram中，$w_I$就是选中的目标词语，$w_O$就是需要预测的附近的其他词语。在CBOW中，$w_O$就是需要预测的目标词语，但是用多个上下文词语的嵌入向量的平均值作为$v_{w_I}$\n",
    "可以看到，要最大化$P(w_O|w_I)$，不仅要算出$\\exp(\\theta_{w_O}^Tv_{w_I})$，还要算出$\\sum_w^W \\exp(\\theta_{w}^Tv_{w_I})$，这计算量实在是太大了"
   ],
   "metadata": {}
  },
  {
   "cell_type": "code",
   "execution_count": 2,
   "source": [
    "# Train on a very small dataset with SoftMax\n",
    "import torch\n",
    "import torch.nn as nn\n",
    "import loader\n",
    "from loader import initVocab, get_dataloader\n",
    "from model import Word2VecSM\n",
    "from utils import Timer\n",
    "\n",
    "# Each time lines_limit changes, vocab need to be reload\n",
    "initVocab(lines_limit=800)\n",
    "cbow_dataloader = get_dataloader(\"cbow\", batch_size = 32, window_size=5, lines_limit=800)\n",
    "vocab_size = len(loader.vocab)\n",
    "embedding_dim = 100\n",
    "log_interval = 300\n",
    "running_loss = 0\n",
    "\n",
    "# Uses Word2Vec with SoftMax to train\n",
    "model = Word2VecSM(vocab_size, embedding_dim)\n",
    "criterion = nn.NLLLoss()\n",
    "optimizer = torch.optim.Adam(model.parameters(), lr=1e-3)\n",
    "\n",
    "print(\"Training start with SoftMax Word2Vec\")\n",
    "for idx, batch in enumerate(cbow_dataloader):\n",
    "    input, target = batch\n",
    "    output = model(input)\n",
    "    optimizer.zero_grad()\n",
    "    loss = criterion(output, target)\n",
    "    loss.backward()\n",
    "    optimizer.step()\n",
    "    running_loss += loss.item()\n",
    "\n",
    "    if idx % log_interval == log_interval - 1:\n",
    "        print(\"Step %d:\\tloss=%.3f\\t%s\" % (idx, running_loss/log_interval, Timer.Now()))\n",
    "        running_loss = 0\n",
    "print(\"Finish Training\")\n",
    "Timer.Stop()"
   ],
   "outputs": [
    {
     "output_type": "stream",
     "name": "stdout",
     "text": [
      "Initializing vocabulary...\n",
      "Loading Yahoo dataset...\n",
      "Counted 10923 words in  dataset\n",
      "Training start with SoftMax Word2Vec\n",
      "Loading Yahoo dataset...\n",
      "Step 299:\tloss=16.914\t0m:0s\n",
      "Step 599:\tloss=14.707\t0m:4s\n",
      "Step 899:\tloss=13.160\t0m:8s\n",
      "Step 1199:\tloss=12.136\t0m:13s\n",
      "Step 1499:\tloss=11.339\t0m:17s\n",
      "Step 1799:\tloss=10.777\t0m:22s\n",
      "Step 2099:\tloss=10.215\t0m:26s\n",
      "Step 2399:\tloss=9.639\t0m:31s\n",
      "Finish Training\n"
     ]
    }
   ],
   "metadata": {}
  },
  {
   "cell_type": "markdown",
   "source": [
    "### 使用Hierarchical SoftMax的模型\n",
    "这是一种使用二叉树结构减少计算概率的计算量的方法：\n",
    "\n",
    "![1*dI7tiRsPrwYfw4zcukRHog](https://image.panwenbo.icu/blog20210716211151.png)\n",
    "\n",
    "如上图所示，这棵二叉树中的叶子就是一个词汇表里的单词，每个非叶节点都是一个小逻辑回归网络，这些网络可以接受一个上下文词语$w_I$输入，输出一个概率，表示如果这个上下文词语可以映射到一个目标词语$w_O$(就像我们的数据集里定义的那样),那么这个词语$w_O$出现在其右子树中的概率。设某一个节点的参数为$\\theta_k$，那么我们就有：\n",
    "$$P(w_O \\text{ in right subtree given context } w_I) = \\sigma(\\theta_k^T v_{w_I})$$\n",
    "$$P(w_O \\text{ in left subtree given context } w_I) = 1 - \\sigma(\\theta_k^T v_{w_I})$$\n",
    "这个$w_O$可以随意指定，我们可以计算任选的一个$w_O$是上下文词语$w_I$对应词语的概率。如果我们想要计算某一个$w_O$是上下文词语$w_I$对应词语的概率，我们只需要首先找出从根节点到$w_O$的唯一路径，把$w_I$带入路径中每一个节点的网络，把它们得到的概率或连续累乘，或变成1-P后再乘进去（如果这里需要向左子树前进的话），最终我们得到的乘积就是我们需要的概率。可以证明，对于同一个$w_I$，用这种方式得到的所有$P(w_O|w_I)$之和为1.\n",
    "Hierarchical SoftMax有以下特点：\n",
    "\n",
    "1. 这棵树如果有V个叶子，他就有V-1个节点和V-1个$\\theta_k$作为参数。而直接使用SoftMax分类则需要V个$\\theta_w$参数，总量上是差不多的。但是可知现在计算一个单词的概率需要的计算次数平均不超过$\\log_2 V$次， 速度大大加快了。\n",
    "2. 为了使得每个词语到根节点的距离尽可能小，可以使用一个平衡二叉树来减小树的高度；如果我们希望被频繁访问的词语的深度更小，还可以构建一个哈夫曼树来根据词语频率调节不同叶子深度。当然这里的实现两种方法都没有采用（实现起来太复杂了），采用的是直接构建一个完全二叉树，因为这样可以用一个数组来存下所有节点网络。\n",
    "3. 如果想用这个网络计算最高概率的词汇，那可没有偷懒的余地了——每次都沿着概率最高的那个子树前进并不能得到什么有意义的结果，还是需要计算所有的节点概率，考虑每个叶子节点。\n",
    "4. 可以看到，计算不同的词语需要在树中走过不同的路径，于是想要在这个网络中使用mini-batch需要保证batch里的$w_O$都是一样的，因为这个原因，在最后的实现中也不会使用Hierarchical SoftMax方法。\n",
    "\n",
    "最后得$P(w_O|w_i)$以后，我们使用交叉熵损失函数计算损失即可：\n",
    "$L = -\\log(P(w_O|w_I;\\theta))$ 但是在这里使用完全二叉树的一个问题是部分概率会由于大量连乘精度下溢变成0，于是实践中我用路径上多个负对数Sigmoid概率连加代替了连乘来防止溢出。\n",
    "\n",
    "下面的内容是使用层级SoftMax方法进行的简单的训练，有意思的是，Hierarchical SoftMax显著的慢于普通SoftMax，而且收敛的速度也非常慢。我认为的原因有两点：\n",
    "\n",
    "1. 这里的Hierarchical SoftMax的实现在batch方向上是用了for循环来做，因为不同的$w_O$的计算路径是不一样的，不易向量化，而普通SoftMax的输出也就是10000左右多分类，还没到严重拖慢算法的程度。\n",
    "2. Hierarchical SoftMax是一个多层网络，这10000多个叶子带来的树深度大约有13层，并且相对于普通SoftMax每次可以训练到所有参数，它的迭代每次只能训练很小一部分参数，这也导致收敛速度变慢。\n"
   ],
   "metadata": {}
  },
  {
   "cell_type": "code",
   "execution_count": null,
   "source": [
    "# Train on a very small dataset with Hierarchical SoftMax\n",
    "import loader\n",
    "from loader import initVocab, get_dataloader\n",
    "import torch\n",
    "import torch.nn as nn\n",
    "from model import Word2VecHSM\n",
    "from utils import Timer\n",
    "\n",
    "# Each time lines_limit changes, vocab need to be reload\n",
    "initVocab(lines_limit=800)\n",
    "cbow_dataloader = get_dataloader(\"cbow\", batch_size = 32, window_size=5, lines_limit=800)\n",
    "vocab_size = len(loader.vocab)\n",
    "embedding_dim = 100\n",
    "log_interval = 300\n",
    "running_loss = 0\n",
    "\n",
    "# Train with Word2Vec with Hierachical SoftMax\n",
    "# There is no need to set up a loss function because the model directly returns the sum of loss.\n",
    "model = Word2VecHSM(vocab_size, embedding_dim)\n",
    "optimizer = torch.optim.Adam(model.parameters(), lr=1e-3)\n",
    "\n",
    "print(\"Training start with Hierarchical SoftMax\")\n",
    "for idx, batch in enumerate(cbow_dataloader):\n",
    "    input, target = batch\n",
    "    loss = model(input, target)\n",
    "    optimizer.zero_grad()\n",
    "    loss.backward()\n",
    "    optimizer.step()\n",
    "    running_loss += loss.item()\n",
    "\n",
    "    if idx % log_interval == log_interval - 1:\n",
    "        print(\"Step %d:\\tloss=%.3f\\t%s\" % (idx, running_loss/log_interval, Timer.Now()))\n",
    "        running_loss = 0\n",
    "print(\"Finish Training\")\n",
    "Timer.Stop()"
   ],
   "outputs": [],
   "metadata": {}
  },
  {
   "cell_type": "markdown",
   "source": [
    "### Negative smapling 负采样方法\n",
    "优化SoftMax的实质是增大正确的预测的概率，缩小错误的预测的概率，而负采样方法正是显式的把这个过程拿上台面，变成了一个二分类问题。我们仅计算$P(w_O|w_I)=\\sigma(\\theta_{w_O}^Tv_{w_I})$，并希望它尽可能的大，但是为了防止网络退化成一个无论任何输入都输出1的网络，我们再对于每个$w_I$，从语料库中随机采样出k个词语$w_R$，这些词语由于是从茫茫词海中随机选到的几个词语，这k个词语几乎和$w_I$不会有任何关联，因此我们希望$P(w_R|w_I)=\\sigma(\\theta_{w_R}^Tv_{w_I})$可以尽可能的小。\n",
    "\n",
    "实践显示，在小的训练集中，k取5到20之间是比较合适的，而在大的训练集中，k取到2到5之间也是很好的。\n",
    "\n",
    "#### 如何采样$w_R$\n",
    "\n",
    "这里有两种采样方式，均匀采样（Uniform Sampling）和按频率采样（或者叫一元模型采样Unigram Sampling， $w_R \\sim U(w)$），经过研究显示，U(w)的3/4次方可以既考虑到高频词汇的重要性又兼顾到低频词汇，可以达到最好的表现，于是最佳的设置就是$w_R \\sim \\frac{U(w)}{Z}$，其中除以Z是为了归一化分布。\n",
    "\n",
    "#### 如何采样$w_I$\n",
    "\n",
    "这个问题不仅适用于负采样，也是SoftMax等方法需要考虑的。如果随机地在语料库中大量采样，那么“the”，“a“等词语可能会被处理上百万次，但是我们可能更希望多处理一些有意义的词语对比如（Paris,France）而不是（The,France）。于是我们使用以下公式进行权衡：\n",
    "$$P(w_I) = 1 - \\sqrt{\\frac{t}{f(w_I)}}$$\n",
    "更多的细节建议参考原论文，下面的实现使用最简单的从语料库中随机采样$w_I$，从词语库中均匀采样$w_R$。训练使用Skip-gram获取词语对。下面我们训练一个简单的词嵌入算法，这个算法我们就随便训练意思一下，可能是由于数据集过小的原因，事实上，训练出的词向量并不能有效的支持我们展开下面的实验。\n"
   ],
   "metadata": {}
  },
  {
   "cell_type": "code",
   "execution_count": 24,
   "source": [
    "# Experiment with Negative sampling, skip-gram.\n",
    "# Train on a slightly larger dataset, but still small\n",
    "import loader\n",
    "from loader import initVocab, get_dataloader\n",
    "import torch\n",
    "import torch.nn as nn\n",
    "from model import Word2VecNSLoss\n",
    "from utils import Timer\n",
    "\n",
    "# Each time lines_limit changes, vocab need to be reload\n",
    "initVocab(lines_limit=5000)\n",
    "vocab_size = len(loader.vocab)\n",
    "embedding_dim = 50\n",
    "batch_size = 128\n",
    "log_interval = 60\n",
    "\n",
    "num_epoches = 1\n",
    "K = 2 # Number of negative samples\n",
    "\n",
    "# Train with Word2Vec with Word2Vec with Negative Sampling\n",
    "# There is no need to set up a loss function because the model directly returns the average loss.\n",
    "model = Word2VecNSLoss(vocab_size, embedding_dim)\n",
    "optimizer = torch.optim.Adam(model.parameters(), lr=1e-2)\n",
    "\n",
    "print(\"Training start with Negative Sampling\")\n",
    "Timer.Start()\n",
    "for epoch in range(num_epoches):\n",
    "    # dataloader cannot be reused, must be reset each epoch.\n",
    "    running_loss = 0\n",
    "    skip_dataloader = get_dataloader(\"skip\", batch_size = 128, window_size=5, lines_limit=50)\n",
    "    for idx, batch in enumerate(skip_dataloader):\n",
    "        input, pos_context = batch\n",
    "        input = input.view((-1, 1))\n",
    "        pos_context = pos_context.view((-1, 1)) # (Batch_size, 1)\n",
    "\n",
    "        # Don't use K * batch_size, because dataloader can't guarantee the size of batch.\n",
    "        neg_context = torch.randint(vocab_size, (K*input.size(0), 1))\n",
    "\n",
    "        loss = model(input, pos_context, neg_context)\n",
    "        optimizer.zero_grad()\n",
    "        loss.backward()\n",
    "        optimizer.step()\n",
    "        running_loss += loss.item()\n",
    "\n",
    "        if idx % log_interval == log_interval - 1:\n",
    "            print(\"Epoch:%d \\tStep: %d\\tloss=%.3f\\t%s\" % (\n",
    "                epoch + 1, \n",
    "                idx, \n",
    "                running_loss/log_interval, \n",
    "                Timer.Remain(percent=epoch/num_epoches)))\n",
    "            running_loss = 0\n",
    "print(\"Finish Training\")\n",
    "Timer.Stop()"
   ],
   "outputs": [
    {
     "output_type": "stream",
     "name": "stdout",
     "text": [
      "Initializing vocabulary...\n",
      "Loading Yahoo dataset...\n",
      "Counted 32067 words in  dataset\n",
      "Training start with Negative Sampling\n",
      "Loading Yahoo dataset...\n",
      "Finish Training\n"
     ]
    }
   ],
   "metadata": {}
  },
  {
   "cell_type": "markdown",
   "source": [
    "## 可视化词向量\n",
    "接下来进行几个单词位置的可视化，根据给出的几个单词进行PCA处理，取出方差最大的两个方向，显示它们的坐标。可以看出，词嵌入向量之间的平行四边形关系和聚类特点很明显的表现出来了。首都对国家成平行四边形关系，东方国家和西方国家之间有聚类的特点。不过首先我们需要先导入一个已经训练好的Glove词嵌入算法数据。"
   ],
   "metadata": {}
  },
  {
   "cell_type": "code",
   "execution_count": 65,
   "source": [
    "model = torch.load(\"word2vec.model\")"
   ],
   "outputs": [],
   "metadata": {}
  },
  {
   "cell_type": "code",
   "execution_count": 70,
   "source": [
    "from sklearn.decomposition import PCA\n",
    "import matplotlib.pyplot as plt\n",
    "\n",
    "# Turns a string into a embedding vector\n",
    "word2idx = lambda x: loader.vocab[loader.tokenizer(x)[0]]\n",
    "idx2vec = lambda x: model.input_embedding(torch.tensor(x).long().view(1, 1))\n",
    "word2vec = lambda x: idx2vec(word2idx(x))\n",
    "\n",
    "# Pays attention to whether these words appear in vocabulary first!\n",
    "words = [\"berlin\", \"germany\",\n",
    "         \"paris\", \"france\",\n",
    "         \"shanghai\", \"china\",\n",
    "         \"london\", \"britain\",\n",
    "         \"seoul\", \"korea\",\n",
    "         \"tokyo\", \"japan\"]\n",
    "embeddeds = [word2vec(w) for w in words]\n",
    "X = torch.cat(embeddeds, dim=0).detach().numpy()\n",
    "\n",
    "# Uses PCA method to narrow the dimensions of embedding vector down\n",
    "pca = PCA(n_components=2)\n",
    "pca.fit(X)\n",
    "X_new = pca.transform(X)\n",
    "x = X_new[:, 0]\n",
    "y = X_new[:, 1]\n",
    "\n",
    "# Plot and annotation\n",
    "plt.scatter(x, y,marker='o')\n",
    "for i in range(len(x)):\n",
    "    plt.annotate(words[i], xy = (x[i], y[i]), xytext = (x[i]+0.1, y[i]+0.1))\n",
    "plt.show()"
   ],
   "outputs": [
    {
     "output_type": "display_data",
     "data": {
      "text/plain": [
       "<Figure size 432x288 with 1 Axes>"
      ],
      "image/png": "[encoded data removed]"
     },
     "metadata": {
      "needs_background": "light"
     }
    }
   ],
   "metadata": {}
  },
  {
   "cell_type": "markdown",
   "source": [
    "## 寻找对应的词向量\n",
    "这个实验是在所有的词向量中寻找“男孩”相对于“女孩”相当于“国王”相对于“女王”的关系。"
   ],
   "metadata": {}
  },
  {
   "cell_type": "code",
   "execution_count": 71,
   "source": [
    "from tqdm import tqdm # Displays progress bar\n",
    "from loader import vocab\n",
    "\n",
    "input_word1 = \"go\"\n",
    "input_word2 = \"went\"\n",
    "output_word1 = \"think\"\n",
    "output_word2 = \"<unk>\"\n",
    "output_idx = 0\n",
    "\n",
    "# Checks whether all words appears in vocabulary\n",
    "for w in [input_word1, input_word2, output_word1]:\n",
    "    if vocab[w] == vocab[\"<unk>\"]:\n",
    "        print(\"The word %s doesn't appear in vocabulary\" % w)\n",
    "\n",
    "# Finds a output_word2 that is closest to input_word2 - input_word1 + output_word1\n",
    "target_tensor = word2vec(input_word2) - word2vec(input_word1) + word2vec(output_word1)\n",
    "for i in tqdm(range(vocab_size)):\n",
    "    if not vocab.lookup_token(i) == input_word2 and\\\n",
    "       not vocab.lookup_token(i) == output_word1 and\\\n",
    "       torch.abs(idx2vec(i)-target_tensor).sum() < torch.abs(idx2vec(output_idx)-target_tensor).sum():\n",
    "        output_idx = i\n",
    "        output_word2 = vocab.lookup_token(i)\n",
    "\n",
    "print(\"\\n%s to %s is %s to (%s)\" % (input_word1, input_word2, output_word1, output_word2))"
   ],
   "outputs": [
    {
     "output_type": "stream",
     "name": "stderr",
     "text": [
      "100%|██████████| 32067/32067 [00:05<00:00, 6381.87it/s]"
     ]
    },
    {
     "output_type": "stream",
     "name": "stdout",
     "text": [
      "\n",
      "go to went is think to (thought)\n"
     ]
    },
    {
     "output_type": "stream",
     "name": "stderr",
     "text": [
      "\n"
     ]
    }
   ],
   "metadata": {}
  }
 ]
}