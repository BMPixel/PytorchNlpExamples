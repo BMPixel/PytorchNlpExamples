{
 "metadata": {
  "language_info": {
   "codemirror_mode": {
    "name": "ipython",
    "version": 3
   },
   "file_extension": ".py",
   "mimetype": "text/x-python",
   "name": "python",
   "nbconvert_exporter": "python",
   "pygments_lexer": "ipython3",
   "version": "3.8.5"
  },
  "orig_nbformat": 4,
  "kernelspec": {
   "name": "python3",
   "display_name": "Python 3.8.5 64-bit ('torch': conda)"
  },
  "interpreter": {
   "hash": "9b4bbedfadf25860b059a1c5c39307745bbec4144bd123053550521ac6995465"
  }
 },
 "nbformat": 4,
 "nbformat_minor": 2,
 "cells": [
  {
   "cell_type": "markdown",
   "source": [
    "# 序列到序列模型（Seq2Seq）\n",
    "Seq2Seq模型处理的问题是输入一个序列，输出一个序列的问题，输出输入词语之间经常没有一一对应关系，甚至长度也是不相等的。因此Seq2Seq模型索性使用两个RNN解决此问题——编码RNN（Encoder）负责处理输入但是不产生输出，而解码RNN（Decoder）接受编码RNN的最后一个隐藏层单元，并以此为唯一的根据产生需要的序列。\n",
    "\n",
    "接下来我们设计一个非常简单的数据集，输入一个字符串（如“qwerty”），它的目标输出是它的相反字符串（如“ytrewq”）"
   ],
   "metadata": {}
  },
  {
   "cell_type": "code",
   "execution_count": 1,
   "source": [
    "# Define vocab, dataset and Dataloader\n",
    "import random\n",
    "import string\n",
    "import torch\n",
    "\n",
    "max_length = 5 # Max length of all sentences in this dataset\n",
    "data_size = 20000 # Total numbers of data in this dataset\n",
    "train_size = 18000 # Total numbers of train samples\n",
    "batch_size = 128\n",
    "\n",
    "vocab = list('-[]' + string.ascii_letters) # '-'=>PAD, ']'=>EOS, '['=>SOS\n",
    "def str2tensor(x): return torch.tensor([vocab.index(w) for w in x]) # Converts string to tensor\n",
    "def tensor2str(x): return \"\".join([vocab[int(i)] for i in x]) # Converts tensor to string\n",
    "def get_randstr(l): return \"\".join([random.choice(string.ascii_letters) for i in range(l)]) # Return a random string\n",
    "\n",
    "def get_loader(data_set, batch_size):\n",
    "    \"\"\"A generator yield data in dataset in batch\"\"\"\n",
    "    for i in range(len(data_set) // batch_size):\n",
    "        input = [data_set[j][0] for j in range(i*batch_size, min(len(data_set), (i+1)*batch_size))]\n",
    "        output = [data_set[j][1] for j in range(i*batch_size, min(len(data_set), (i+1)*batch_size))]\n",
    "        target = [data_set[j][2] for j in range(i*batch_size, min(len(data_set), (i+1)*batch_size))]\n",
    "        yield input, output, target\n",
    "\n",
    "def get_dataset(data_size, max_length=100, seed=0):\n",
    "    data_set = []\n",
    "    random.seed(seed)\n",
    "    for i in range(data_size):\n",
    "        seq = get_randstr(random.randint(1, max_length))\n",
    "        data_set.append((\n",
    "            str2tensor(seq), # Input term\n",
    "            str2tensor(\"[\" + \"\".join(reversed(seq))), # Output term\n",
    "            str2tensor(\"\".join(reversed(seq)) + \"]\"))) # Target output\n",
    "    return data_set\n",
    "\n",
    "data_set = get_dataset(data_size, max_length)\n",
    "train_loader = list(get_loader(data_set[:train_size], batch_size))\n",
    "dev_loader = list(get_loader(data_set[train_size:], batch_size))"
   ],
   "outputs": [],
   "metadata": {}
  },
  {
   "cell_type": "markdown",
   "source": [
    "## 不同RNN类型，隐藏层单元数对于网络表现的影响\n",
    "我们使用了基本的三种循环神经网络（RNN（无门控），GRU，LSTM）在不同的隐藏层单元数的条件下，简单的检验它们对于序列的记忆能力的不同。每一项的左/中/右三个数据分别代表了RNN，GRU，LSTM在这个设定下的准确率百分比。模型类定义于model.py，训练函数定义于train.py\n",
    "|       | h5       | h10      | h50      | h100      | h200      |\n",
    "| ----- | -------- | -------- | -------- | --------- | --------- |\n",
    "| len5  | 27/47/71 | 29/91/94 | 84/98/99 | 89/99/100 | 51/99/100 |\n",
    "| len10 | 16/21/24 | 17/43/30 | 28/90/87 | 22/94/92  | 16/94/97  |\n",
    "| len20 | 10/12/12 | 10/14/13 | 11/63/35 | 09/78/47  | 09/82/12  |\n",
    "| len50 | 04/06/08 | 04/06/06 | 04/14/10 | 04/25/15  | 03/46/38  |\n",
    "\n",
    "可以看到这些数据一些有意思的地方。整体上来看，隐藏层数量的增加对于提高网络对长序列的记忆能力是有帮助的，而且这种促进可能是非线性的（参考GRU在(5,10),(10,50),(20,200)有着相似的90%准确率，此时大致有$\\text{len} \\approx \\sqrt{\\text{2hidden}}$，由于RNN和LSTM工作不稳定这里不作为参考）。但是这种促进理论上至少应该是线性的，因为我们可以手工构建一个GRU(Encoder每次迭代都把隐藏层的前固定个元素移到隐藏层末尾，并向新的隐藏层头几个元素写入读取的数据，在Decoder层用同样的方式读取数据)来实现线性地把数据写进隐藏单元。\n",
    "\n",
    "这中促进能力在RNN中表现的并不明显，尤其是在序列长度大于20以后，增大隐藏层单元数基本不能对准确率造成任何影响。这里的主要原因应该是数据处理的问题，我们使用了把长度小于最大长度的序列用“PAD”补齐到最大长度的方法来处理，这导致绝大多数的序列末尾都会有许多的占位符，这严重地影响了RNN对隐藏层数据的保持，而门控循环网络由于可以通过控制门来选择性的接受数据，它们不会受到太多的这类影响。\n",
    "\n",
    "另一个有意思的现象是RNN在(5, 200)这个点准确率尤其低的问题，这打破了随着隐藏层数量增大，准确率提高的趋势。一开始我认为这是过拟合的现象，但是打印出训练准确率后发现其和测试准确率相差无几；经过一番尝试我发现，原来的1e-2学习速率在这里太大了，需要调小一些。看来在同一层参数量过大，应该适当调小一些学习数量。\n",
    "\n",
    "整体上GRU和LSTM的表现相差无几，LSTM在隐藏层规模较大的区域也出现了准确度下降的情况，这和上面的原因应该是一致的，LSTM由于比GRU有更多的参数量可能需要更小学习速率。\n"
   ],
   "metadata": {}
  },
  {
   "cell_type": "code",
   "execution_count": 16,
   "source": [
    "# Train a GRU model with 64 hidden_units\n",
    "from train import train, evaluate\n",
    "from model import Seq2seq\n",
    "\n",
    "# No printing, about 2 minutes to finish in itel i5 cpu\n",
    "log_interval = 999999\n",
    "num_epoches = 30\n",
    "max_length = 15\n",
    "\n",
    "# Set up train dataloader\n",
    "data_set = get_dataset(data_size, max_length)\n",
    "train_loader = list(get_loader(data_set[:train_size], batch_size))\n",
    "dev_loader = list(get_loader(data_set[train_size:], batch_size))\n",
    "\n",
    "# Training with GRU, 64 hidden_size\n",
    "model = Seq2seq(vocab_size=len(vocab), hidden_size=64, core='GRU', bidirectional=False)\n",
    "train(model, train_loader, num_epoches, log_interval)\n",
    "print(\"Finish train with acc=%.2f\" % (100 * evaluate(model, dev_loader)))\n",
    "\n",
    "# The testing code used for generating the table above\n",
    "# Don't run it unless you want to wait for a long time\n",
    "# for core in [\"RNN\", \"GRU\", \"LSTM\"]:\n",
    "#     for max_length in [5, 10, 20, 50]:\n",
    "#         for hidden_size in [5, 10, 50, 100, 200]:\n",
    "#             print(\"Start core=%s, len=%d, hidden=%d exp...\" % (core, max_length, hidden_size))\n",
    "#             data_set = get_dataset(data_size, max_length)\n",
    "#             train_loader = list(get_loader(data_set[:train_size], batch_size))\n",
    "#             dev_loader = list(get_loader(data_set[train_size:], batch_size))\n",
    "#             model = Seq2seq(len(vocab), hidden_size, core=core, bidirectional=False)\n",
    "#             train(model, train_loader, num_epoches, log_interval)\n",
    "#             print(evaluate((model), train_loader))\n",
    "#             print(\"Finish core=%s, len=%d, hidden=%d exp with acc=%.2f%\" % (core, max_length, hidden_size, 100 * evaluate(model, dev_loader)))"
   ],
   "outputs": [
    {
     "output_type": "stream",
     "name": "stderr",
     "text": [
      "100%|██████████| 15/15 [00:00<00:00, 62.00it/s]"
     ]
    },
    {
     "output_type": "stream",
     "name": "stdout",
     "text": [
      "Finish train with acc=90.35\n"
     ]
    },
    {
     "output_type": "stream",
     "name": "stderr",
     "text": [
      "\n"
     ]
    }
   ],
   "metadata": {}
  },
  {
   "cell_type": "code",
   "execution_count": 7,
   "source": [
    "# Testing our GRU model\n",
    "seq_str = \"HelloEveryOne\"\n",
    "input = str2tensor(seq_str).view((-1, 1))\n",
    "output = model.predict(input, str2tensor(\"[\").view((1, -1)), max_length+1) # torch.Size([max_length, 1, vocab_size])\n",
    "output = output.argmax(dim=2).squeeze()\n",
    "output_str = \"\".join([vocab[i] for i in list(output)])\n",
    "print(\"In:  \" + seq_str)\n",
    "print(\"Out: \" + output_str)"
   ],
   "outputs": [
    {
     "output_type": "stream",
     "name": "stdout",
     "text": [
      "In:  HelloEveryOne\n",
      "Out: enOyrevohlOtZR]]\n"
     ]
    }
   ],
   "metadata": {}
  },
  {
   "cell_type": "markdown",
   "source": [
    "## 使用Packed Sequence\n",
    "之前看到RNN因为序列补齐长度所使用的\\<PAD\\>字符导致网络基本不能完成较长序列的记忆任务，这是我们所不想要的。但是不使用占位符我们也不能利用mini-batch的向量化运算了，这也是我们不想要的。那么有没有一种两全其美的解决方法呢？Pytorch为我们提供了一套解决方案，Pack_padded_sequence和Pad_packed_sequence。关于这两个函数的具体介绍可以看我的博客https://zhuanlan.zhihu.com/p/391815360。\n",
    "\n",
    "如果不加任何改动，Pack_padded_sequence产生的PackedSequence对象只被nn.RNN等类接受，而Embedding等方法不接受PackedSequence对象。因此需要在model.py定义一个修改过的RNN类来实现这个要求。\n",
    "\n",
    "可以看到，使用了PackedSequence的RNN马上就有了在长序列下和GRU，LSTM一绝雌雄的能力，同时训练速度也没有受到损害（如果不使用Mini-batch需要10分钟左右的时间，现在依然只需要20秒）。可以说这是一个双赢的局面。"
   ],
   "metadata": {}
  },
  {
   "cell_type": "code",
   "execution_count": 2,
   "source": [
    "# Train using PackRNN\n",
    "from train import train, evaluate\n",
    "from model import PackRNN\n",
    "\n",
    "log_interval = 90\n",
    "num_epoches = 13\n",
    "max_length = 50\n",
    "\n",
    "# Set up train dataloader\n",
    "data_set = get_dataset(data_size, max_length)\n",
    "train_loader = list(get_loader(data_set[:train_size], batch_size))\n",
    "dev_loader = list(get_loader(data_set[train_size:], batch_size))\n",
    "\n",
    "# Training with GRU, 64 hidden_size\n",
    "model = PackRNN(vocab_size=len(vocab), hidden_size=50)\n",
    "train(model, train_loader, num_epoches, log_interval, packed=True)\n",
    "print(\"Finish train with acc=%.2f\" % (100 * evaluate(model, dev_loader, packed=True)))"
   ],
   "outputs": [
    {
     "output_type": "stream",
     "name": "stdout",
     "text": [
      "Epoch: 1\tStep: 89\tLoss=3.343\t0m:1s (- 0m:24s)\n",
      "Epoch: 2\tStep: 89\tLoss=1.484\t0m:2s (- 0m:20s)\n",
      "Epoch: 3\tStep: 89\tLoss=0.786\t0m:4s (- 0m:18s)\n",
      "Epoch: 4\tStep: 89\tLoss=0.545\t0m:6s (- 0m:16s)\n",
      "Epoch: 5\tStep: 89\tLoss=0.442\t0m:8s (- 0m:14s)\n",
      "Epoch: 6\tStep: 89\tLoss=0.374\t0m:9s (- 0m:12s)\n",
      "Epoch: 7\tStep: 89\tLoss=0.334\t0m:11s (- 0m:11s)\n",
      "Epoch: 8\tStep: 89\tLoss=0.307\t0m:13s (- 0m:9s)\n",
      "Epoch: 9\tStep: 89\tLoss=0.268\t0m:14s (- 0m:7s)\n",
      "Epoch: 10\tStep: 89\tLoss=0.248\t0m:15s (- 0m:5s)\n",
      "Epoch: 11\tStep: 89\tLoss=0.232\t0m:17s (- 0m:3s)\n",
      "Epoch: 12\tStep: 89\tLoss=0.223\t0m:18s (- 0m:2s)\n",
      "Epoch: 13\tStep: 89\tLoss=0.200\t0m:19s (- 0m:0s)\n"
     ]
    },
    {
     "output_type": "stream",
     "name": "stderr",
     "text": [
      "100%|██████████| 15/15 [00:00<00:00, 139.77it/s]"
     ]
    },
    {
     "output_type": "stream",
     "name": "stdout",
     "text": [
      "Finish train with acc=89.82\n"
     ]
    },
    {
     "output_type": "stream",
     "name": "stderr",
     "text": [
      "\n"
     ]
    }
   ],
   "metadata": {}
  },
  {
   "cell_type": "markdown",
   "source": [
    "# 使用Attention机制\n",
    "虽然有了PackedSequence的RNN现在已经很好使，但是现在网络的表现依然严重依赖于中间隐藏层的容量。于是我们现在引入Attention机制来使得我们的网络可以不再需要把所有的信息都储存在中间隐藏层里。\n",
    "\n",
    "<img src=\"https://image.panwenbo.icu/blog20210724174150.png\" alt=\"blog20210529172930\" style=\"zoom: 22%;\" />\n",
    "\n",
    "Attention机制其实就是，相较于原先的只把最后一个Encoder隐藏层单元输入Decoder，Attention方法把所有的Encoder隐藏层都输入Decoder。但是如果直接把它们拼接在一起并输入的话参数量就太大了，况且很多时候某一个Decoder时间刻只对一小部分的隐藏层感兴趣。Attention方法允许我们为每一个隐藏层都分配一个权重并把它们加权平均作为输入的Attention值。这个权重的计算方法有很多，每一个不同的Decoder时间刻都会独自地产生一套这时刻需要的权重，我们的权重计算函数因此同时需要一个Encoder隐藏层$h_i$和一个Decoder隐藏层$H_j$参与来确定在$H_j$眼里到底给$h_i$多少的权重，这里的计算方式我们采用缩放点积模型（其实也实现了其他方法）\n",
    "$$\n",
    "e_{ij} = \\text{score}(h_i, H_j) = \\frac{h_i^T H_j}{\\sqrt{d_H}}\n",
    "$$\n",
    "计算完成的分数还要输入SoftMax构成真正的权重。关于Attention机制的详细介绍可以看我的详细全解https://zhuanlan.zhihu.com/p/\n",
    "380892265\n",
    "下面展示了这个Attention网络的基本示意图，这里我们只把Attention值输入最后的全连接层，当然也有着把Attention值输入循环神经网络的做法（参考https://pytorch.org/tutorials/intermediate/seq2seq_translation_tutorial.html）。但是就现在这个问题而言使用前者是可行的并且有助于我们使用向量化的计算方法计算Attention值。\n",
    "\n",
    "<img src=\"https://image.panwenbo.icu/blog20210725101134.png\" alt=\"截屏2021-07-25 上午10.11.21\" style=\"zoom:35%;\" />"
   ],
   "metadata": {}
  },
  {
   "cell_type": "code",
   "execution_count": 2,
   "source": [
    "# Train using Seq2seq with attention\n",
    "from train import train, evaluate\n",
    "from model import Seq2seqAtt\n",
    "\n",
    "log_interval = 90\n",
    "num_epoches = 13\n",
    "max_length = 20\n",
    "\n",
    "# Set up train dataloader\n",
    "data_set = get_dataset(data_size, max_length)\n",
    "train_loader = list(get_loader(data_set[:train_size], batch_size))\n",
    "dev_loader = list(get_loader(data_set[train_size:], batch_size))\n",
    "\n",
    "# Training with GRU, 64 hidden_size\n",
    "model = Seq2seqAtt(vocab_size=len(vocab), hidden_size=50)\n",
    "train(model, train_loader, num_epoches, log_interval)\n",
    "print(\"Finish train with acc=%.2f\" % (100 * evaluate(model, dev_loader)))"
   ],
   "outputs": [
    {
     "output_type": "stream",
     "name": "stdout",
     "text": [
      "Epoch: 1\tStep: 89\tLoss=2.210\t0m:2s (- 0m:43s)\n",
      "Epoch: 2\tStep: 89\tLoss=2.066\t0m:6s (- 0m:42s)\n",
      "Epoch: 3\tStep: 89\tLoss=1.809\t0m:9s (- 0m:37s)\n",
      "Epoch: 4\tStep: 89\tLoss=0.741\t0m:12s (- 0m:33s)\n",
      "Epoch: 5\tStep: 89\tLoss=0.082\t0m:16s (- 0m:29s)\n",
      "Epoch: 6\tStep: 89\tLoss=0.053\t0m:19s (- 0m:25s)\n",
      "Epoch: 7\tStep: 89\tLoss=0.042\t0m:23s (- 0m:22s)\n",
      "Epoch: 8\tStep: 89\tLoss=0.051\t0m:27s (- 0m:19s)\n",
      "Epoch: 9\tStep: 89\tLoss=0.044\t0m:31s (- 0m:15s)\n",
      "Epoch: 10\tStep: 89\tLoss=0.040\t0m:35s (- 0m:12s)\n",
      "Epoch: 11\tStep: 89\tLoss=0.113\t0m:39s (- 0m:8s)\n",
      "Epoch: 12\tStep: 89\tLoss=0.055\t0m:43s (- 0m:5s)\n",
      "Epoch: 13\tStep: 89\tLoss=0.036\t0m:46s (- 0m:1s)\n"
     ]
    },
    {
     "output_type": "stream",
     "name": "stderr",
     "text": [
      "100%|██████████| 15/15 [00:00<00:00, 63.65it/s]"
     ]
    },
    {
     "output_type": "stream",
     "name": "stdout",
     "text": [
      "Finish train with acc=99.02\n"
     ]
    },
    {
     "output_type": "stream",
     "name": "stderr",
     "text": [
      "\n"
     ]
    }
   ],
   "metadata": {}
  },
  {
   "cell_type": "markdown",
   "source": [
    "## 总结\n",
    "可以看到有了Attention加持的RNN异常的生猛，虽然训练时间长了不少（最大长度为20情况下9s/50s，最大长度为50情况下37s/177s）。对于最大长度50，隐藏层单元数50情况下，在RNN，GRU，LSTM分别达到4%/14%/10%的准确率时，带有Attention的RNN达到了77%的准确率。在最大长度20，隐藏层单元数50的情况下达到了99的准确率，这时我们打印出某一个batch中的所有Attention值，可以看到非常明显的对角线纹理。\n",
    "\n",
    "<img src=\"https://image.panwenbo.icu/blog20210725133247.png\" alt=\"c2eec157-16cb-4924-8157-3cfc46e07c42\" style=\"zoom:67%;\" />\n"
   ],
   "metadata": {}
  },
  {
   "cell_type": "code",
   "execution_count": 14,
   "source": [
    "import matplotlib.pyplot as plt\n",
    "from torch.nn.utils.rnn import pad_sequence\n",
    "\n",
    "input, output, target = dev_loader[0]\n",
    "input = pad_sequence(input)\n",
    "output = pad_sequence(output)\n",
    "\n",
    "att_weights = model(input, output, return_att=True)\n",
    "att_weights = att_weights.detach().numpy()\n",
    "plt.figure(figsize=(10,10))\n",
    "for i in range(1, 37):\n",
    "    plt.subplot(6, 6, i)\n",
    "    plt.imshow(att_weights[:, :, i])\n",
    "plt.show()"
   ],
   "outputs": [
    {
     "output_type": "display_data",
     "data": {
      "text/plain": [
       "<Figure size 720x720 with 36 Axes>"
      ],
      "image/png": "[encoded data removed]"
     },
     "metadata": {
      "needs_background": "light"
     }
    }
   ],
   "metadata": {}
  }
 ]
}